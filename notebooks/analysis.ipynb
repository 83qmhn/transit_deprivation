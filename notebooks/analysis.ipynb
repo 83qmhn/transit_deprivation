{
 "cells": [
  {
   "cell_type": "markdown",
   "metadata": {},
   "source": [
    "### Data Loading"
   ]
  },
  {
   "cell_type": "code",
   "execution_count": null,
   "metadata": {},
   "outputs": [],
   "source": [
    "import json\n",
    "import pydeck\n",
    "import pickle\n",
    "import numpy as np\n",
    "import plotly.express as px\n",
    "import matplotlib.pyplot as plt\n",
    "import pandas as pd\n",
    "import os\n",
    "import shapefile"
   ]
  },
  {
   "cell_type": "code",
   "execution_count": null,
   "metadata": {},
   "outputs": [],
   "source": [
    "# load location index\n",
    "with open(\"../data/akl_loc_idx.pkl\", 'rb') as f:\n",
    "    loc_idx = pickle.load(f) # datazone to point index\n",
    "    idx_loc = {v:k for k, v in loc_idx.items()} # point index to datazone    \n",
    "    print(f\" -- loaded location index with dimension {len(loc_idx)}\")\n",
    "\n",
    "# load time index\n",
    "with open(\"../data/akl_t_idx.pkl\", 'rb') as f:\n",
    "    t_idx = pickle.load(f)\n",
    "    print(f\" -- loaded time index with dimension {len(t_idx)}\")\n",
    "    \n",
    "# load precomputed odt\n",
    "with open(\"../data/akl_odt.npy\", 'rb') as f:\n",
    "    odt = np.load(f)\n",
    "    print(f\" -- loaded odt cube with dimensions {odt.shape}\")"
   ]
  },
  {
   "cell_type": "code",
   "execution_count": null,
   "metadata": {},
   "outputs": [],
   "source": [
    "# show odt time rane\n",
    "times = list(t_idx.keys())\n",
    "print(min(times), \"-\", max(times))"
   ]
  },
  {
   "cell_type": "code",
   "execution_count": null,
   "metadata": {},
   "outputs": [],
   "source": [
    "# load polygon data\n",
    "with open(\"../data/akl/akl_polygons_id.geojson\", 'r') as f:\n",
    "    polys = json.load(f)"
   ]
  },
  {
   "cell_type": "code",
   "execution_count": null,
   "metadata": {},
   "outputs": [],
   "source": [
    "# load shapefile of points (data zone population centeroids)\n",
    "sf_path = \"../data/akl_points.shp\"\n",
    "sf = shapefile.Reader(sf_path)\n",
    "records = sf.records()\n",
    "coords = {}\n",
    "for i, r in enumerate(records):    \n",
    "    coords[r[0]] = sf.shape(i).points[0]\n",
    "sf.close()"
   ]
  },
  {
   "cell_type": "code",
   "execution_count": null,
   "metadata": {},
   "outputs": [],
   "source": [
    "# load IMD\n",
    "imd = pd.read_csv(\"../data/akl_imd.csv\", index_col=\"DZ2018\")\n",
    "imd.head()"
   ]
  },
  {
   "cell_type": "code",
   "execution_count": null,
   "metadata": {},
   "outputs": [],
   "source": [
    "# clinics\n",
    "# these are currently manuallys set to the nearest data zone location (population centeroid)\n",
    "clinics = pd.read_csv(\"../data/akl_clinics.csv\", index_col=\"DZ2018\")\n",
    "clinics.head()"
   ]
  },
  {
   "cell_type": "markdown",
   "metadata": {},
   "source": [
    "### Some basic plotting with pydeck\n",
    "\n",
    "Can use this to select a location ID"
   ]
  },
  {
   "cell_type": "code",
   "execution_count": null,
   "metadata": {},
   "outputs": [],
   "source": [
    "# deckgl show polygons and location ids\n",
    "view_state = pydeck.ViewState(\n",
    "    longitude=174.7633,\n",
    "    latitude=-36.8485,\n",
    "    zoom=11,    \n",
    "    max_zoom=16,\n",
    "    pitch=0,\n",
    "    bearing=0\n",
    ")\n",
    "\n",
    "# default view\n",
    "geojson = pydeck.Layer(\n",
    "    \"GeoJsonLayer\",\n",
    "    polys, # needs to be wgs84\n",
    "    opacity=0.2,\n",
    "    stroked=True,\n",
    "    line_width_min_pixels=1,\n",
    "    filled=True,           \n",
    "    pickable=True,\n",
    "    auto_highlight=True,\n",
    "    get_fill_color=[128, 128, 128],\n",
    "    get_line_color=[255, 255, 255],    \n",
    ")\n",
    "\n",
    "r = pydeck.Deck(\n",
    "    layers=[geojson], \n",
    "    initial_view_state=view_state, \n",
    "    map_style='mapbox://styles/mapbox/light-v9',   \n",
    "    tooltip = {\n",
    "        \"text\": \"Location: {id}\"\n",
    "    }\n",
    ")\n",
    "#r.to_html(\"geojson_layer.html\", iframe_width=\"100%\")\n",
    "r.show()"
   ]
  },
  {
   "cell_type": "markdown",
   "metadata": {},
   "source": [
    "### One source to all destinations with one-way journey threshold"
   ]
  },
  {
   "cell_type": "code",
   "execution_count": null,
   "metadata": {},
   "outputs": [],
   "source": [
    "loc = 7600522\n",
    "lon, lat = coords[loc]\n",
    "origin = loc_idx[loc] # get odt index from location id\n",
    "dt = odt[origin, :, :] # get destination-time matrix for this origin\n",
    "print(dt.shape)"
   ]
  },
  {
   "cell_type": "code",
   "execution_count": null,
   "metadata": {},
   "outputs": [],
   "source": [
    "# view dt matrix\n",
    "fig, ax = plt.subplots(figsize=(15, 15))\n",
    "ax.imshow(np.transpose(dt))\n",
    "ax.set_xlabel(\"location index\")\n",
    "ax.set_ylabel(\"time index\")"
   ]
  },
  {
   "cell_type": "code",
   "execution_count": null,
   "metadata": {},
   "outputs": [],
   "source": [
    "# compute mean, std travel time\n",
    "mean_tt = np.nanmean(dt, axis=1).reshape(-1, 1)\n",
    "std_tt = np.nanstd(dt, axis=1).reshape(-1, 1)"
   ]
  },
  {
   "cell_type": "code",
   "execution_count": null,
   "metadata": {},
   "outputs": [],
   "source": [
    "# create dataframe\n",
    "ids = np.array(list(idx_loc.values())).reshape(-1, 1)\n",
    "d = np.concatenate((ids, mean_tt, std_tt), axis=1)\n",
    "df = pd.DataFrame(d, columns=[\"id\", \"mean_tt\", \"std_tt\"])\n",
    "df = df.astype({'id': 'int32'})\n",
    "df = df.dropna()\n",
    "\n",
    "# join with imd\n",
    "df = df.join(imd, on=\"id\")"
   ]
  },
  {
   "cell_type": "code",
   "execution_count": null,
   "metadata": {},
   "outputs": [],
   "source": [
    "# threshold by mean_tt\n",
    "threshold = 60 # minutes\n",
    "df = df[df[\"mean_tt\"] < threshold]"
   ]
  },
  {
   "cell_type": "code",
   "execution_count": null,
   "metadata": {},
   "outputs": [],
   "source": [
    "# plot - note geojson data needs to be wgs84\n",
    "fig = px.choropleth_mapbox(\n",
    "        df,\n",
    "        geojson=polys, \n",
    "        featureidkey=\"id\",\n",
    "        locations=\"id\",        \n",
    "        center = {\"lat\": lat, \"lon\": lon},\n",
    "        mapbox_style=\"carto-positron\",\n",
    "        color=\"mean_tt\",\n",
    "        color_continuous_scale=\"Viridis\",\n",
    "        zoom=12)\n",
    "fig.update_layout(margin={\"r\":0,\"t\":0,\"l\":0,\"b\":0})\n",
    "fig.show()"
   ]
  },
  {
   "cell_type": "code",
   "execution_count": null,
   "metadata": {},
   "outputs": [],
   "source": [
    "# plot - note geojson data needs to be wgs84\n",
    "fig = px.choropleth_mapbox(\n",
    "        df,\n",
    "        geojson=polys, \n",
    "        featureidkey=\"id\",\n",
    "        locations=\"id\",        \n",
    "        center = {\"lat\": lat, \"lon\": lon},\n",
    "        mapbox_style=\"carto-positron\",\n",
    "        color=\"std_tt\",\n",
    "        color_continuous_scale=\"Viridis\",\n",
    "        zoom=12)\n",
    "fig.update_layout(margin={\"r\":0,\"t\":0,\"l\":0,\"b\":0})\n",
    "fig.show()"
   ]
  },
  {
   "cell_type": "markdown",
   "metadata": {},
   "source": [
    "### All locations to one destinationwith one-way journey threshold"
   ]
  },
  {
   "cell_type": "code",
   "execution_count": null,
   "metadata": {},
   "outputs": [],
   "source": [
    "print(clinics[\"name\"])"
   ]
  },
  {
   "cell_type": "code",
   "execution_count": null,
   "metadata": {},
   "outputs": [],
   "source": [
    "# get clinic location by name\n",
    "clinic_name = \"Rehab Plus\"\n",
    "clinic_loc = clinics.index[clinics[\"name\"] == clinic_name].tolist()[0]\n",
    "print(clinic_name, clinic_loc)"
   ]
  },
  {
   "cell_type": "code",
   "execution_count": null,
   "metadata": {},
   "outputs": [],
   "source": [
    "loc = clinic_loc # or just set any location id\n",
    "lon, lat = coords[loc]\n",
    "destination = loc_idx[loc] # get odt index from location id\n",
    "ot = odt[:, destination, :] # get origin-time matrix for this destination\n",
    "print(ot.shape)"
   ]
  },
  {
   "cell_type": "code",
   "execution_count": null,
   "metadata": {},
   "outputs": [],
   "source": [
    "# view ot matrix\n",
    "fig, ax = plt.subplots(figsize=(15, 15))\n",
    "ax.imshow(np.transpose(ot))\n",
    "ax.set_xlabel(\"location index\")\n",
    "ax.set_ylabel(\"time index\")"
   ]
  },
  {
   "cell_type": "code",
   "execution_count": null,
   "metadata": {},
   "outputs": [],
   "source": [
    "# compute mean, std travel time\n",
    "mean_tt = np.nanmean(ot, axis=1).reshape(-1, 1)\n",
    "std_tt = np.nanstd(ot, axis=1).reshape(-1, 1)"
   ]
  },
  {
   "cell_type": "code",
   "execution_count": null,
   "metadata": {},
   "outputs": [],
   "source": [
    "# create dataframe\n",
    "ids = np.array(list(idx_loc.values())).reshape(-1, 1)\n",
    "d = np.concatenate((ids, mean_tt, std_tt), axis=1)\n",
    "df = pd.DataFrame(d, columns=[\"id\", \"mean_tt\", \"std_tt\"])\n",
    "df = df.astype({'id': 'int32'})\n",
    "df = df.dropna()\n",
    "\n",
    "# join with imd\n",
    "df = df.join(imd, on=\"id\")"
   ]
  },
  {
   "cell_type": "code",
   "execution_count": null,
   "metadata": {},
   "outputs": [],
   "source": [
    "# threshold by mean_tt\n",
    "threshold = 60 # minutes\n",
    "df = df[df[\"mean_tt\"] < threshold]"
   ]
  },
  {
   "cell_type": "code",
   "execution_count": null,
   "metadata": {},
   "outputs": [],
   "source": [
    "# plot - note geojson data needs to be wgs84\n",
    "fig = px.choropleth_mapbox(\n",
    "        df,\n",
    "        geojson=polys, \n",
    "        featureidkey=\"id\",\n",
    "        locations=\"id\",        \n",
    "        center = {\"lat\": lat, \"lon\": lon},\n",
    "        mapbox_style=\"carto-positron\",\n",
    "        color=\"mean_tt\",\n",
    "        color_continuous_scale=\"Viridis\",\n",
    "        zoom=12)\n",
    "fig.update_layout(margin={\"r\":0,\"t\":0,\"l\":0,\"b\":0})\n",
    "fig.show()"
   ]
  },
  {
   "cell_type": "code",
   "execution_count": null,
   "metadata": {},
   "outputs": [],
   "source": [
    "# plot - note geojson data needs to be wgs84\n",
    "fig = px.choropleth_mapbox(\n",
    "        df,\n",
    "        geojson=polys, \n",
    "        featureidkey=\"id\",\n",
    "        locations=\"id\",        \n",
    "        center = {\"lat\": lat, \"lon\": lon},\n",
    "        mapbox_style=\"carto-positron\",\n",
    "        color=\"std_tt\",\n",
    "        color_continuous_scale=\"Viridis\",\n",
    "        zoom=12)\n",
    "fig.update_layout(margin={\"r\":0,\"t\":0,\"l\":0,\"b\":0})\n",
    "fig.show()"
   ]
  },
  {
   "cell_type": "code",
   "execution_count": null,
   "metadata": {},
   "outputs": [],
   "source": []
  }
 ],
 "metadata": {
  "kernelspec": {
   "display_name": "Python 3",
   "language": "python",
   "name": "python3"
  },
  "language_info": {
   "codemirror_mode": {
    "name": "ipython",
    "version": 3
   },
   "file_extension": ".py",
   "mimetype": "text/x-python",
   "name": "python",
   "nbconvert_exporter": "python",
   "pygments_lexer": "ipython3",
   "version": "3.7.7"
  }
 },
 "nbformat": 4,
 "nbformat_minor": 4
}
