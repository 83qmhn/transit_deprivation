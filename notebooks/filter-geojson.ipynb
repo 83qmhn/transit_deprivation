{
 "cells": [
  {
   "cell_type": "code",
   "execution_count": null,
   "metadata": {},
   "outputs": [],
   "source": [
    "import json\n",
    "import pickle\n",
    "import plotly.express as px\n",
    "import numpy as np"
   ]
  },
  {
   "cell_type": "code",
   "execution_count": null,
   "metadata": {},
   "outputs": [],
   "source": [
    "# load location index\n",
    "with open(\"../data/akl_loc_idx.pkl\", 'rb') as f:\n",
    "    loc_idx = pickle.load(f) # datazone to point index\n",
    "    idx_loc = {v:k for k, v in loc_idx.items()} # point index to datazone    \n",
    "    print(f\" -- loaded location index with dimension {len(loc_idx)}\")\n",
    "\n",
    "# load time index\n",
    "with open(\"../data/akl_t_idx.pkl\", 'rb') as f:\n",
    "    t_idx = pickle.load(f)\n",
    "    print(f\" -- loaded time index with dimension {len(t_idx)}\")\n",
    "    \n",
    "# load precomputed odt\n",
    "with open(\"../data/akl_odt.npy\", 'rb') as f:\n",
    "    odt = np.load(f)\n",
    "    print(f\" -- loaded odt cube with dimensions {odt.shape}\")"
   ]
  },
  {
   "cell_type": "code",
   "execution_count": null,
   "metadata": {},
   "outputs": [],
   "source": [
    "with open(\"../data/akl_polygons.geojson\", 'r') as f:\n",
    "    polys = json.load(f)"
   ]
  },
  {
   "cell_type": "code",
   "execution_count": null,
   "metadata": {},
   "outputs": [],
   "source": [
    "# add id field to each feature (requried by plotly even though it's supposed to work via subproperty ref.)\n",
    "for f in polys[\"features\"]:\n",
    "    f[\"id\"] = f[\"properties\"][\"DZ2018\"]        "
   ]
  },
  {
   "cell_type": "code",
   "execution_count": null,
   "metadata": {},
   "outputs": [],
   "source": [
    "# remove properties DZ2018 as it is now duplicated\n",
    "for f in polys[\"features\"]:\n",
    "    f[\"properties\"] = f[\"properties\"].pop(\"DZ2108\", None)"
   ]
  },
  {
   "cell_type": "code",
   "execution_count": null,
   "metadata": {},
   "outputs": [],
   "source": [
    "# filter polygons by those that have population centroids\n",
    "pids = [k for k, v in loc_idx.items()]\n",
    "valid_features = [f for f in polys[\"features\"] if f[\"id\"] in pids]\n",
    "polys[\"features\"] = valid_features\n",
    "print(\"total features:\", len(polys[\"features\"]))"
   ]
  },
  {
   "cell_type": "code",
   "execution_count": null,
   "metadata": {},
   "outputs": [],
   "source": [
    "# filter polygons by those that have valid journeys\n",
    "jsum = np.sum(np.nansum(odt, axis=2), axis=0)\n",
    "valid_idx = [i for i, v in enumerate(jsum) if v > 0]\n",
    "valid_features = [f for f in polys[\"features\"] if loc_idx[f[\"id\"]] in valid_idx]\n",
    "polys[\"features\"] = valid_features\n",
    "print(f\"total features: {len(polys['features'])}\")"
   ]
  },
  {
   "cell_type": "code",
   "execution_count": null,
   "metadata": {},
   "outputs": [],
   "source": [
    "# combine polygons with duplicate feature ids\n",
    "features = {}\n",
    "for f in polys[\"features\"]:\n",
    "    fid = f[\"id\"]\n",
    "    if fid not in features:\n",
    "        features[fid] = f        \n",
    "    else:\n",
    "        f_poly = f[\"geometry\"][\"coordinates\"]\n",
    "        features[fid][\"geometry\"][\"coordinates\"] += f_poly    \n",
    "        #print(fid, len(features[fid][\"geometry\"][\"coordinates\"]))\n",
    "polys[\"features\"] = list(features.values())\n",
    "print(f\"total features: {len(polys['features'])}\")"
   ]
  },
  {
   "cell_type": "code",
   "execution_count": null,
   "metadata": {
    "scrolled": false
   },
   "outputs": [],
   "source": [
    "# print combined features\n",
    "for f in polys[\"features\"]:\n",
    "    npoly = len(f[\"geometry\"][\"coordinates\"])\n",
    "    if npoly > 1:\n",
    "        print(f[\"id\"], npoly)"
   ]
  },
  {
   "cell_type": "code",
   "execution_count": null,
   "metadata": {},
   "outputs": [],
   "source": [
    "# optionally insert the odt data for each location\n",
    "include_odt = True\n",
    "\n",
    "if include_odt:   \n",
    "    fmt = np.vectorize(lambda x: f\"{x:.1f}\")\n",
    "    polys_dt = polys.copy()\n",
    "    for f in polys_dt[\"features\"]:\n",
    "        # origin id and odt index of origin\n",
    "        o = f[\"id\"]\n",
    "        o_idx = loc_idx[o]\n",
    "        # get dt slice for the origin\n",
    "        dt_slice = odt[o_idx]\n",
    "        # set the feature dt property to the slice data\n",
    "        f[\"dt\"] = fmt(dt_slice).astype(np.float).tolist()     "
   ]
  },
  {
   "cell_type": "code",
   "execution_count": null,
   "metadata": {},
   "outputs": [],
   "source": [
    "idx = 300\n",
    "if include_odt:\n",
    "    print(polys_dt[\"features\"][idx])\n",
    "else:\n",
    "    print(polys[\"features\"][idx])    "
   ]
  },
  {
   "cell_type": "code",
   "execution_count": null,
   "metadata": {},
   "outputs": [],
   "source": [
    "# write file\n",
    "with open(\"../data/akl_polygons_id.geojson\", \"w\") as f:\n",
    "    json.dump(polys, f)"
   ]
  },
  {
   "cell_type": "code",
   "execution_count": null,
   "metadata": {},
   "outputs": [],
   "source": [
    "# write dt appended file\n",
    "if include_odt:\n",
    "    with open(\"../data/akl_polygons_id_dt.geojson\", \"w\") as f:\n",
    "        json.dump(polys_dt, f)  "
   ]
  },
  {
   "cell_type": "code",
   "execution_count": null,
   "metadata": {},
   "outputs": [],
   "source": [
    "locations = [f[\"id\"] for f in polys[\"features\"]]\n",
    "fig = px.choropleth_mapbox(\n",
    "        geojson=polys, \n",
    "        featureidkey=\"id\",\n",
    "        locations=locations,        \n",
    "        center = {\"lat\": -36.8485, \"lon\": 174.7633},\n",
    "        mapbox_style=\"carto-positron\",\n",
    "        zoom=12)\n",
    "fig.update_layout(margin={\"r\":0,\"t\":0,\"l\":0,\"b\":0})\n",
    "fig.show()"
   ]
  },
  {
   "cell_type": "code",
   "execution_count": null,
   "metadata": {},
   "outputs": [],
   "source": []
  }
 ],
 "metadata": {
  "kernelspec": {
   "display_name": "Python 3",
   "language": "python",
   "name": "python3"
  },
  "language_info": {
   "codemirror_mode": {
    "name": "ipython",
    "version": 3
   },
   "file_extension": ".py",
   "mimetype": "text/x-python",
   "name": "python",
   "nbconvert_exporter": "python",
   "pygments_lexer": "ipython3",
   "version": "3.7.7"
  }
 },
 "nbformat": 4,
 "nbformat_minor": 2
}
